{
 "cells": [
  {
   "cell_type": "markdown",
   "metadata": {},
   "source": [
    "# What are the key features of Python?\n",
    "1. Python is dynamic programming language\n",
    "2. Easy to learn and use\n",
    "3. Object oriented programming language\n",
    "4. Garbage collector"
   ]
  },
  {
   "cell_type": "markdown",
   "metadata": {},
   "source": [
    "# What is the difference between a list and a tuple in Python?"
   ]
  },
  {
   "cell_type": "code",
   "execution_count": 2,
   "metadata": {},
   "outputs": [
    {
     "name": "stdout",
     "output_type": "stream",
     "text": [
      "[1, 2, 3, 4, 5, 6, 'Roman']\n"
     ]
    }
   ],
   "source": [
    "# Python list (ordered and mutable)\n",
    "lst = [1,2,3,4,5,6]\n",
    "\n",
    "lst.append(\"Roman\") # advantage with list is it is mutable and we can do modification \n",
    "print(lst)"
   ]
  },
  {
   "cell_type": "code",
   "execution_count": 3,
   "metadata": {},
   "outputs": [
    {
     "ename": "AttributeError",
     "evalue": "'tuple' object has no attribute 'uppend'",
     "output_type": "error",
     "traceback": [
      "\u001b[0;31m---------------------------------------------------------------------------\u001b[0m",
      "\u001b[0;31mAttributeError\u001b[0m                            Traceback (most recent call last)",
      "Cell \u001b[0;32mIn[3], line 3\u001b[0m\n\u001b[1;32m      1\u001b[0m tup \u001b[38;5;241m=\u001b[39m (\u001b[38;5;241m1\u001b[39m,\u001b[38;5;241m2\u001b[39m,\u001b[38;5;241m3\u001b[39m,\u001b[38;5;241m4\u001b[39m,\u001b[38;5;241m5\u001b[39m,\u001b[38;5;241m6\u001b[39m)\n\u001b[0;32m----> 3\u001b[0m \u001b[43mtup\u001b[49m\u001b[38;5;241;43m.\u001b[39;49m\u001b[43muppend\u001b[49m(\u001b[38;5;124m\"\u001b[39m\u001b[38;5;124mRoman\u001b[39m\u001b[38;5;124m\"\u001b[39m) \u001b[38;5;66;03m# this will through an error\u001b[39;00m\n",
      "\u001b[0;31mAttributeError\u001b[0m: 'tuple' object has no attribute 'uppend'"
     ]
    }
   ],
   "source": [
    "tup = (1,2,3,4,5,6)\n",
    "\n",
    "tup.uppend(\"Roman\") # this will through an AttributeError "
   ]
  },
  {
   "cell_type": "markdown",
   "metadata": {},
   "source": [
    "# What are Python’s data types?\n",
    "\n",
    "Mutable Data Types\n",
    "1. list\n",
    "2. set\n",
    "3. Dictionary\n",
    "\n",
    "Immutable Data Types\n",
    "1. strings\n",
    "2. int\n",
    "3. float\n",
    "5. bool\n",
    "6. tuple\n"
   ]
  },
  {
   "cell_type": "markdown",
   "metadata": {},
   "source": [
    "# How is memory managed in Python?\n",
    "\n",
    "Stake \n",
    "\n",
    "1. The stake will store all the reference id of all values\n",
    "\n",
    "Heap\n",
    "\n",
    "2. heap will store the values in the memory"
   ]
  },
  {
   "cell_type": "markdown",
   "metadata": {},
   "source": [
    "# What is the difference between is and == in Python?"
   ]
  },
  {
   "cell_type": "code",
   "execution_count": 5,
   "metadata": {},
   "outputs": [
    {
     "name": "stdout",
     "output_type": "stream",
     "text": [
      "False\n"
     ]
    }
   ],
   "source": [
    "# is operator (identity operator in python) it will check if two variable are refering to the same loaction in the memory\n",
    "a = 5\n",
    "b = 5.0\n",
    "print(a is b) # this will return if True"
   ]
  },
  {
   "cell_type": "code",
   "execution_count": 6,
   "metadata": {},
   "outputs": [
    {
     "name": "stdout",
     "output_type": "stream",
     "text": [
      "True\n"
     ]
    }
   ],
   "source": [
    "# == operator (comperation operator in python) it will check if the two values are same in the memory\n",
    "a = 5\n",
    "b = 5.0\n",
    "print(a == b)"
   ]
  },
  {
   "cell_type": "markdown",
   "metadata": {},
   "source": [
    "# What are *args and kwargs in Python functions?"
   ]
  },
  {
   "cell_type": "code",
   "execution_count": 7,
   "metadata": {},
   "outputs": [
    {
     "name": "stdout",
     "output_type": "stream",
     "text": [
      "RaviRaviRaviRaviRavi\n"
     ]
    }
   ],
   "source": [
    "def keys(x ,y):\n",
    "    v = x * y\n",
    "    print(v)\n",
    "\n",
    "keys(\"Ravi\",5)\n"
   ]
  },
  {
   "cell_type": "code",
   "execution_count": 4,
   "metadata": {},
   "outputs": [
    {
     "name": "stdout",
     "output_type": "stream",
     "text": [
      "8\n"
     ]
    }
   ],
   "source": [
    "def power(a,b):\n",
    "    c = a**b\n",
    "    print(c)\n",
    "\n",
    "power(2,3)\n"
   ]
  },
  {
   "cell_type": "markdown",
   "metadata": {},
   "source": [
    "# What is a Python dictionary? How is it different from a list?"
   ]
  },
  {
   "cell_type": "code",
   "execution_count": 6,
   "metadata": {},
   "outputs": [
    {
     "name": "stdout",
     "output_type": "stream",
     "text": [
      "key1 = value1\n",
      "key2 = value2\n",
      "index : 0 = value 1\n",
      "index : 1 = value 2\n",
      "index : 2 = value 3\n",
      "index : 3 = value 4\n",
      "index : 4 = value 5\n"
     ]
    }
   ],
   "source": [
    "# list is completly different from the dictionary\n",
    "\"\"\"In python dict having key-value pair for example, list opned with squre brackets [] and dict \n",
    "opened with flower brackets {}\n",
    "mutable = both list,dictionary\n",
    "ordered = both list,dictionary\n",
    "duplicates = list can allow , In dict values are allowed not keys\"\"\"\n",
    "\n",
    "dic = {\"key1\":\"value1\",\"key2\" : \"value2\"}\n",
    "\n",
    "for i,j in  dic.items():\n",
    "    print(f'{i} = {j}')\n",
    "\n",
    "ls = [1,2,3,4,5]\n",
    "\n",
    "for i,j in enumerate(ls):\n",
    "    print(f'index : {i} = value {j}')\n",
    "    \n"
   ]
  },
  {
   "cell_type": "code",
   "execution_count": null,
   "metadata": {},
   "outputs": [],
   "source": []
  }
 ],
 "metadata": {
  "kernelspec": {
   "display_name": ".venv",
   "language": "python",
   "name": "python3"
  },
  "language_info": {
   "codemirror_mode": {
    "name": "ipython",
    "version": 3
   },
   "file_extension": ".py",
   "mimetype": "text/x-python",
   "name": "python",
   "nbconvert_exporter": "python",
   "pygments_lexer": "ipython3",
   "version": "3.10.12"
  }
 },
 "nbformat": 4,
 "nbformat_minor": 2
}
