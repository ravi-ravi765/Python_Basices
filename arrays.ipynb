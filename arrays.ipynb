{
 "cells": [
  {
   "cell_type": "markdown",
   "metadata": {},
   "source": [
    "# Array is data structure in Python and that stores  a collection of elements typically same data type,like int or float\n",
    " # Fixed array unlike python list\n",
    " # elements quickly access by using thier index\n",
    " # Homogeneous elements array typically store same type of data"
   ]
  },
  {
   "cell_type": "markdown",
   "metadata": {},
   "source": [
    "# 1. How do you create a list of array in python?"
   ]
  },
  {
   "cell_type": "code",
   "execution_count": 1,
   "metadata": {},
   "outputs": [
    {
     "name": "stdout",
     "output_type": "stream",
     "text": [
      "1\n"
     ]
    }
   ],
   "source": [
    "# How do you create list of array in python?\n",
    "\n",
    "lst = [1,2,3,4,5]\n",
    "\n",
    "# access the elements in the array\n",
    "print(lst[0])"
   ]
  },
  {
   "cell_type": "code",
   "execution_count": 2,
   "metadata": {},
   "outputs": [
    {
     "name": "stdout",
     "output_type": "stream",
     "text": [
      "[7, 6, 5, 4, 3, 2, 1]\n"
     ]
    }
   ],
   "source": [
    "# How do you reverse the array ?\n",
    "\n",
    "def reverse_array(input):\n",
    "\n",
    "    # inisilazing left and right pointer\n",
    "    left = 0\n",
    "    right = len(input) - 1\n",
    "\n",
    "    while left < right:\n",
    "        input[left],input[right]=input[right],input[left]\n",
    "\n",
    "        left += 1\n",
    "\n",
    "        right -= 1\n",
    "\n",
    "    return input\n",
    "\n",
    "arr = [1,2,3,4,5,6,7]\n",
    "result = reverse_array(arr)\n",
    "print(result)"
   ]
  },
  {
   "cell_type": "code",
   "execution_count": null,
   "metadata": {},
   "outputs": [],
   "source": []
  }
 ],
 "metadata": {
  "kernelspec": {
   "display_name": "Python 3",
   "language": "python",
   "name": "python3"
  },
  "language_info": {
   "codemirror_mode": {
    "name": "ipython",
    "version": 3
   },
   "file_extension": ".py",
   "mimetype": "text/x-python",
   "name": "python",
   "nbconvert_exporter": "python",
   "pygments_lexer": "ipython3",
   "version": "3.10.12"
  }
 },
 "nbformat": 4,
 "nbformat_minor": 2
}
